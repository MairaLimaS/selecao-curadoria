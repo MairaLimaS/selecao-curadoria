{
  "nbformat": 4,
  "nbformat_minor": 0,
  "metadata": {
    "colab": {
      "provenance": [],
      "include_colab_link": true
    },
    "kernelspec": {
      "name": "python3",
      "display_name": "Python 3"
    },
    "language_info": {
      "name": "python"
    }
  },
  "cells": [
    {
      "cell_type": "markdown",
      "metadata": {
        "id": "view-in-github",
        "colab_type": "text"
      },
      "source": [
        "<a href=\"https://colab.research.google.com/github/MairaLimaS/selecao-curadoria/blob/main/Material%20de%20Selecao/Teste_Curadoria.ipynb\" target=\"_parent\"><img src=\"https://colab.research.google.com/assets/colab-badge.svg\" alt=\"Open In Colab\"/></a>"
      ]
    },
    {
      "cell_type": "code",
      "source": [],
      "metadata": {
        "id": "9lt_IV53gcBZ"
      },
      "execution_count": null,
      "outputs": []
    },
    {
      "cell_type": "markdown",
      "source": [
        "##CONSULTAS AO BANCO DE DADOS\n",
        "\n",
        "---\n",
        "\n",
        "\n",
        "\n",
        "A partir da base \"amostra_sintetica_dengue_2013_2019\". Pedimos:\n"
      ],
      "metadata": {
        "id": "isDW4BPeXZv-"
      }
    },
    {
      "cell_type": "markdown",
      "source": [
        "Crie o dicionário de dados da base. A versão original do dicionário pode ser acessado no endereço https://opendatasus.saude.gov.br/.\n",
        "\n",
        "Formule uma descrição das variáveis contidas na base.\n",
        "\n",
        "Faça uma avaliação da qualidade da base.\n",
        "\n",
        "Publique os metadados.\n",
        "\n"
      ],
      "metadata": {
        "id": "uZYYyt-7Xem8"
      }
    }
  ]
}